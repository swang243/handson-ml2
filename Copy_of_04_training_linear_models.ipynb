{
  "nbformat": 4,
  "nbformat_minor": 0,
  "metadata": {
    "kernelspec": {
      "display_name": "Python 3",
      "language": "python",
      "name": "python3"
    },
    "language_info": {
      "codemirror_mode": {
        "name": "ipython",
        "version": 3
      },
      "file_extension": ".py",
      "mimetype": "text/x-python",
      "name": "python",
      "nbconvert_exporter": "python",
      "pygments_lexer": "ipython3",
      "version": "3.7.6"
    },
    "nav_menu": {},
    "toc": {
      "navigate_menu": true,
      "number_sections": true,
      "sideBar": true,
      "threshold": 6,
      "toc_cell": false,
      "toc_section_display": "block",
      "toc_window_display": false
    },
    "colab": {
      "name": "Copy of 04_training_linear_models.ipynb",
      "provenance": [],
      "include_colab_link": true
    }
  },
  "cells": [
    {
      "cell_type": "markdown",
      "metadata": {
        "id": "view-in-github",
        "colab_type": "text"
      },
      "source": [
        "<a href=\"https://colab.research.google.com/github/swang243/handson-ml2/blob/master/Copy_of_04_training_linear_models.ipynb\" target=\"_parent\"><img src=\"https://colab.research.google.com/assets/colab-badge.svg\" alt=\"Open In Colab\"/></a>"
      ]
    },
    {
      "cell_type": "markdown",
      "metadata": {
        "id": "mXU4vYj7eIE2",
        "colab_type": "text"
      },
      "source": [
        "\n",
        "\n",
        "```\n",
        "# This is formatted as code\n",
        "```\n",
        "\n",
        "**Week 4 Assignment**"
      ]
    },
    {
      "cell_type": "markdown",
      "metadata": {
        "id": "ii325n0OeIE3",
        "colab_type": "text"
      },
      "source": [
        "_This notebook is the starter code for exercise 4_"
      ]
    },
    {
      "cell_type": "markdown",
      "metadata": {
        "id": "ogFOxktmeIE4",
        "colab_type": "text"
      },
      "source": [
        "# Setup"
      ]
    },
    {
      "cell_type": "markdown",
      "metadata": {
        "id": "Cal-fSpOeIE4",
        "colab_type": "text"
      },
      "source": [
        "First, let's import a few common modules, ensure MatplotLib plots figures inline and prepare a function to save the figures. We also check that Python 3.5 or later is installed (although Python 2.x may work, it is deprecated so we strongly recommend you use Python 3 instead), as well as Scikit-Learn ≥0.20."
      ]
    },
    {
      "cell_type": "code",
      "metadata": {
        "id": "wQPExwX7eIE5",
        "colab_type": "code",
        "colab": {}
      },
      "source": [
        "# Python ≥3.5 is required\n",
        "import sys\n",
        "assert sys.version_info >= (3, 5)\n",
        "\n",
        "# Scikit-Learn ≥0.20 is required\n",
        "import sklearn\n",
        "assert sklearn.__version__ >= \"0.20\"\n",
        "\n",
        "# Common imports\n",
        "import numpy as np\n",
        "import os\n",
        "\n",
        "# to make this notebook's output stable across runs\n",
        "np.random.seed(42)\n",
        "\n",
        "# To plot pretty figures\n",
        "%matplotlib inline\n",
        "import matplotlib as mpl\n",
        "import matplotlib.pyplot as plt\n",
        "mpl.rc('axes', labelsize=14)\n",
        "mpl.rc('xtick', labelsize=12)\n",
        "mpl.rc('ytick', labelsize=12)\n",
        "\n",
        "# Where to save the figures\n",
        "PROJECT_ROOT_DIR = \".\"\n",
        "CHAPTER_ID = \"training_linear_models\"\n",
        "IMAGES_PATH = os.path.join(PROJECT_ROOT_DIR, \"images\", CHAPTER_ID)\n",
        "os.makedirs(IMAGES_PATH, exist_ok=True)\n",
        "\n",
        "def save_fig(fig_id, tight_layout=True, fig_extension=\"png\", resolution=300):\n",
        "    path = os.path.join(IMAGES_PATH, fig_id + \".\" + fig_extension)\n",
        "    print(\"Saving figure\", fig_id)\n",
        "    if tight_layout:\n",
        "        plt.tight_layout()\n",
        "    plt.savefig(path, format=fig_extension, dpi=resolution)\n",
        "\n",
        "# Ignore useless warnings (see SciPy issue #5998)\n",
        "import warnings\n",
        "warnings.filterwarnings(action=\"ignore\", message=\"^internal gelsd\")"
      ],
      "execution_count": 0,
      "outputs": []
    },
    {
      "cell_type": "markdown",
      "metadata": {
        "id": "QsLxUJZBrt8_",
        "colab_type": "text"
      },
      "source": [
        "# Load Data"
      ]
    },
    {
      "cell_type": "markdown",
      "metadata": {
        "id": "QVpFYPD2X10O",
        "colab_type": "text"
      },
      "source": [
        "I loaded the data from an S3 bucket on AWS for you."
      ]
    },
    {
      "cell_type": "code",
      "metadata": {
        "id": "gFWAsLuQsR3N",
        "colab_type": "code",
        "outputId": "bbe6dc5f-1a17-4c24-8013-55928a5ef410",
        "colab": {
          "base_uri": "https://localhost:8080/",
          "height": 417
        }
      },
      "source": [
        "import pandas as pd\n",
        "banks=pd.read_csv(\"https://s3.amazonaws.com/www.ruxton.ai/bank+defaults.csv\")\n",
        "banks.head()"
      ],
      "execution_count": 0,
      "outputs": [
        {
          "output_type": "execute_result",
          "data": {
            "text/html": [
              "<div>\n",
              "<style scoped>\n",
              "    .dataframe tbody tr th:only-of-type {\n",
              "        vertical-align: middle;\n",
              "    }\n",
              "\n",
              "    .dataframe tbody tr th {\n",
              "        vertical-align: top;\n",
              "    }\n",
              "\n",
              "    .dataframe thead th {\n",
              "        text-align: right;\n",
              "    }\n",
              "</style>\n",
              "<table border=\"1\" class=\"dataframe\">\n",
              "  <thead>\n",
              "    <tr style=\"text-align: right;\">\n",
              "      <th></th>\n",
              "      <th>Financial Institution Name</th>\n",
              "      <th>total_assets</th>\n",
              "      <th>defaulter</th>\n",
              "      <th>Failure_Assistance</th>\n",
              "      <th>log_TA</th>\n",
              "      <th>NI_to_TA</th>\n",
              "      <th>Equity_to_TA</th>\n",
              "      <th>NPL_to_TL</th>\n",
              "      <th>REO_to_TA</th>\n",
              "      <th>ALLL_to_TL</th>\n",
              "      <th>core_deposits_to_TA</th>\n",
              "      <th>brokered_deposits_to_TA</th>\n",
              "      <th>liquid_assets_to_TA</th>\n",
              "      <th>loss_provision_to_TL</th>\n",
              "      <th>ROA</th>\n",
              "      <th>NIM</th>\n",
              "      <th>assets_growth</th>\n",
              "      <th>term_spread</th>\n",
              "      <th>stock_mkt_growth</th>\n",
              "      <th>real_gdp_growth</th>\n",
              "      <th>unemployment_rate_change</th>\n",
              "      <th>treasury_yield_3m</th>\n",
              "      <th>bbb_spread</th>\n",
              "      <th>bbb_spread_change</th>\n",
              "      <th>log_TA_plus_1Q</th>\n",
              "      <th>NI_to_TA_plus_1Q</th>\n",
              "      <th>Equity_to_TA_plus_1Q</th>\n",
              "      <th>NPL_to_TL_plus_1Q</th>\n",
              "      <th>REO_to_TA_plus_1Q</th>\n",
              "      <th>ALLL_to_TL_plus_1Q</th>\n",
              "      <th>core_deposits_to_TA_plus_1Q</th>\n",
              "      <th>brokered_deposits_to_TA_plus_1Q</th>\n",
              "      <th>liquid_assets_to_TA_plus_1Q</th>\n",
              "      <th>loss_provision_to_TL_plus_1Q</th>\n",
              "      <th>ROA_plus_1Q</th>\n",
              "      <th>NIM_plus_1Q</th>\n",
              "      <th>assets_growth_plus_1Q</th>\n",
              "      <th>max_total_assets</th>\n",
              "    </tr>\n",
              "  </thead>\n",
              "  <tbody>\n",
              "    <tr>\n",
              "      <th>0</th>\n",
              "      <td>COLORADO NATIONAL BANK</td>\n",
              "      <td>142138</td>\n",
              "      <td>1</td>\n",
              "      <td>FAILURE</td>\n",
              "      <td>-0.048734</td>\n",
              "      <td>-6.505183</td>\n",
              "      <td>-0.759562</td>\n",
              "      <td>0.880756</td>\n",
              "      <td>-0.162301</td>\n",
              "      <td>-0.039358</td>\n",
              "      <td>-1.594099</td>\n",
              "      <td>-0.182975</td>\n",
              "      <td>0.095380</td>\n",
              "      <td>0.003640</td>\n",
              "      <td>-6.505183</td>\n",
              "      <td>-0.554017</td>\n",
              "      <td>0.365436</td>\n",
              "      <td>0.155788</td>\n",
              "      <td>-0.317435</td>\n",
              "      <td>-0.253927</td>\n",
              "      <td>0.859609</td>\n",
              "      <td>0.006692</td>\n",
              "      <td>0.894064</td>\n",
              "      <td>0.417366</td>\n",
              "      <td>-0.069667</td>\n",
              "      <td>-0.367905</td>\n",
              "      <td>-0.795966</td>\n",
              "      <td>2.013862</td>\n",
              "      <td>-0.066290</td>\n",
              "      <td>0.294916</td>\n",
              "      <td>-2.007894</td>\n",
              "      <td>-0.182975</td>\n",
              "      <td>0.106776</td>\n",
              "      <td>0.004823</td>\n",
              "      <td>-0.367905</td>\n",
              "      <td>-0.840312</td>\n",
              "      <td>-0.582232</td>\n",
              "      <td>142138</td>\n",
              "    </tr>\n",
              "    <tr>\n",
              "      <th>1</th>\n",
              "      <td>COMMUNITY BANK, NATIONAL ASSOCIATION</td>\n",
              "      <td>6364903</td>\n",
              "      <td>0</td>\n",
              "      <td>NaN</td>\n",
              "      <td>2.754852</td>\n",
              "      <td>0.143005</td>\n",
              "      <td>0.249275</td>\n",
              "      <td>-0.405931</td>\n",
              "      <td>-0.327268</td>\n",
              "      <td>-0.244766</td>\n",
              "      <td>0.265125</td>\n",
              "      <td>-0.150770</td>\n",
              "      <td>0.229372</td>\n",
              "      <td>-0.003401</td>\n",
              "      <td>0.143005</td>\n",
              "      <td>-0.109970</td>\n",
              "      <td>1.447333</td>\n",
              "      <td>0.897368</td>\n",
              "      <td>-0.132755</td>\n",
              "      <td>0.348841</td>\n",
              "      <td>0.202649</td>\n",
              "      <td>-0.956664</td>\n",
              "      <td>-0.324746</td>\n",
              "      <td>-0.095051</td>\n",
              "      <td>2.767996</td>\n",
              "      <td>0.205816</td>\n",
              "      <td>0.236031</td>\n",
              "      <td>-0.388327</td>\n",
              "      <td>-0.335160</td>\n",
              "      <td>-0.245810</td>\n",
              "      <td>0.283318</td>\n",
              "      <td>-0.156056</td>\n",
              "      <td>0.318976</td>\n",
              "      <td>-0.003057</td>\n",
              "      <td>0.205816</td>\n",
              "      <td>-0.140365</td>\n",
              "      <td>0.003962</td>\n",
              "      <td>8494486</td>\n",
              "    </tr>\n",
              "    <tr>\n",
              "      <th>2</th>\n",
              "      <td>NEXBANK, SSB</td>\n",
              "      <td>784781</td>\n",
              "      <td>0</td>\n",
              "      <td>NaN</td>\n",
              "      <td>1.211269</td>\n",
              "      <td>0.229021</td>\n",
              "      <td>-0.301031</td>\n",
              "      <td>-0.750449</td>\n",
              "      <td>-0.304600</td>\n",
              "      <td>-0.661804</td>\n",
              "      <td>-2.362597</td>\n",
              "      <td>-0.182975</td>\n",
              "      <td>-0.473225</td>\n",
              "      <td>-0.002684</td>\n",
              "      <td>0.229021</td>\n",
              "      <td>-0.783150</td>\n",
              "      <td>1.466905</td>\n",
              "      <td>-0.400396</td>\n",
              "      <td>0.188968</td>\n",
              "      <td>-0.387875</td>\n",
              "      <td>-0.782792</td>\n",
              "      <td>-0.896455</td>\n",
              "      <td>0.081524</td>\n",
              "      <td>0.161157</td>\n",
              "      <td>1.241315</td>\n",
              "      <td>0.470935</td>\n",
              "      <td>-0.242253</td>\n",
              "      <td>-0.809730</td>\n",
              "      <td>-0.374868</td>\n",
              "      <td>-0.673111</td>\n",
              "      <td>-1.386875</td>\n",
              "      <td>-0.182975</td>\n",
              "      <td>-0.630034</td>\n",
              "      <td>-0.003506</td>\n",
              "      <td>0.470935</td>\n",
              "      <td>-0.799310</td>\n",
              "      <td>0.284815</td>\n",
              "      <td>2698563</td>\n",
              "    </tr>\n",
              "    <tr>\n",
              "      <th>3</th>\n",
              "      <td>COMMERCE BANK/SHORE NATIONAL ASSOCIATION</td>\n",
              "      <td>2173481</td>\n",
              "      <td>0</td>\n",
              "      <td>NaN</td>\n",
              "      <td>1.962490</td>\n",
              "      <td>0.253469</td>\n",
              "      <td>-0.922810</td>\n",
              "      <td>-0.752942</td>\n",
              "      <td>-0.374868</td>\n",
              "      <td>-0.260532</td>\n",
              "      <td>1.438397</td>\n",
              "      <td>-0.182975</td>\n",
              "      <td>1.850473</td>\n",
              "      <td>-0.002771</td>\n",
              "      <td>0.253469</td>\n",
              "      <td>-0.099539</td>\n",
              "      <td>0.459243</td>\n",
              "      <td>0.433881</td>\n",
              "      <td>1.674053</td>\n",
              "      <td>0.951609</td>\n",
              "      <td>0.531129</td>\n",
              "      <td>-0.354567</td>\n",
              "      <td>-0.189323</td>\n",
              "      <td>-0.863677</td>\n",
              "      <td>2.043363</td>\n",
              "      <td>0.225454</td>\n",
              "      <td>-1.039013</td>\n",
              "      <td>-0.740467</td>\n",
              "      <td>-0.374868</td>\n",
              "      <td>-0.249210</td>\n",
              "      <td>1.427099</td>\n",
              "      <td>-0.182975</td>\n",
              "      <td>2.028526</td>\n",
              "      <td>-0.002819</td>\n",
              "      <td>0.225454</td>\n",
              "      <td>-0.324276</td>\n",
              "      <td>1.091618</td>\n",
              "      <td>2697759</td>\n",
              "    </tr>\n",
              "    <tr>\n",
              "      <th>4</th>\n",
              "      <td>CENTENNIAL BANK</td>\n",
              "      <td>241440</td>\n",
              "      <td>1</td>\n",
              "      <td>FAILURE</td>\n",
              "      <td>0.341981</td>\n",
              "      <td>-1.857315</td>\n",
              "      <td>-0.643992</td>\n",
              "      <td>4.583630</td>\n",
              "      <td>10.678175</td>\n",
              "      <td>0.926359</td>\n",
              "      <td>-2.175126</td>\n",
              "      <td>-0.182975</td>\n",
              "      <td>-1.471494</td>\n",
              "      <td>0.041009</td>\n",
              "      <td>-1.857315</td>\n",
              "      <td>-1.160576</td>\n",
              "      <td>1.145982</td>\n",
              "      <td>1.082763</td>\n",
              "      <td>1.685831</td>\n",
              "      <td>-1.928282</td>\n",
              "      <td>3.158971</td>\n",
              "      <td>-0.836245</td>\n",
              "      <td>3.331682</td>\n",
              "      <td>-3.169554</td>\n",
              "      <td>0.315538</td>\n",
              "      <td>-0.945865</td>\n",
              "      <td>-0.677217</td>\n",
              "      <td>4.701457</td>\n",
              "      <td>12.485022</td>\n",
              "      <td>-0.786735</td>\n",
              "      <td>-1.679305</td>\n",
              "      <td>-0.182975</td>\n",
              "      <td>-1.417561</td>\n",
              "      <td>-0.004326</td>\n",
              "      <td>-0.945865</td>\n",
              "      <td>-1.657427</td>\n",
              "      <td>-0.679579</td>\n",
              "      <td>241440</td>\n",
              "    </tr>\n",
              "  </tbody>\n",
              "</table>\n",
              "</div>"
            ],
            "text/plain": [
              "                 Financial Institution Name  ...  max_total_assets\n",
              "0                    COLORADO NATIONAL BANK  ...            142138\n",
              "1      COMMUNITY BANK, NATIONAL ASSOCIATION  ...           8494486\n",
              "2                              NEXBANK, SSB  ...           2698563\n",
              "3  COMMERCE BANK/SHORE NATIONAL ASSOCIATION  ...           2697759\n",
              "4                           CENTENNIAL BANK  ...            241440\n",
              "\n",
              "[5 rows x 38 columns]"
            ]
          },
          "metadata": {
            "tags": []
          },
          "execution_count": 2
        }
      ]
    },
    {
      "cell_type": "markdown",
      "metadata": {
        "id": "Dursgx1LXZ0W",
        "colab_type": "text"
      },
      "source": [
        "#EDA:"
      ]
    },
    {
      "cell_type": "markdown",
      "metadata": {
        "id": "W1gSBePLXZP5",
        "colab_type": "text"
      },
      "source": [
        "Feature Selection using RFE (Recursive Feature Elimination)"
      ]
    },
    {
      "cell_type": "code",
      "metadata": {
        "id": "t3fciJkGC99w",
        "colab_type": "code",
        "colab": {}
      },
      "source": [
        "use=list(banks.columns.values[4:])  # use all the predictor data for example\n",
        "X = banks[ use]  # petal width\n",
        "X.columns\n",
        "Y = banks[\"defaulter\"]  # 1 if Iris virginica, else 0"
      ],
      "execution_count": 0,
      "outputs": []
    },
    {
      "cell_type": "code",
      "metadata": {
        "id": "S8fsjl1tDz4M",
        "colab_type": "code",
        "colab": {}
      },
      "source": [
        "from sklearn.model_selection import StratifiedShuffleSplit\n",
        "split = StratifiedShuffleSplit(n_splits=1, test_size=0.2, random_state=42)\n",
        "for train_index, test_index in split.split(banks[use], banks[\"defaulter\"]):\n",
        "    strat_train_set = banks.loc[train_index]\n",
        "    strat_test_set = banks.loc[test_index]\n",
        "\n",
        "X=strat_train_set[use]\n",
        "y=strat_train_set[\"defaulter\"]\n",
        "X_test=strat_test_set[use]\n",
        "Y_actual=strat_test_set[\"defaulter\"]"
      ],
      "execution_count": 0,
      "outputs": []
    },
    {
      "cell_type": "code",
      "metadata": {
        "id": "rfhpQ5qnD0fG",
        "colab_type": "code",
        "colab": {}
      },
      "source": [
        "from sklearn.feature_selection import RFE\n",
        "from sklearn.linear_model import LogisticRegression\n",
        "from sklearn.svm import SVR\n",
        "\n",
        "estimator = SVR(kernel=\"linear\")\n",
        "selector = RFE(estimator, 10, step=1)\n",
        "selector = selector.fit(X, y)\n",
        "\n",
        "print(selector.support_)\n",
        "print(selector.ranking_)"
      ],
      "execution_count": 0,
      "outputs": []
    },
    {
      "cell_type": "markdown",
      "metadata": {
        "id": "kQhWbCNfeIHK",
        "colab_type": "text"
      },
      "source": [
        "# Logistic regression"
      ]
    },
    {
      "cell_type": "code",
      "metadata": {
        "colab_type": "code",
        "id": "xDC7FjUtIveB",
        "colab": {}
      },
      "source": [
        "from sklearn.model_selection import StratifiedShuffleSplit\n",
        "split = StratifiedShuffleSplit(n_splits=1, test_size=0.2, random_state=42)\n",
        "for train_index, test_index in split.split(banks[use], banks[\"defaulter\"]):\n",
        "    strat_train_set = banks.loc[train_index]\n",
        "    strat_test_set = banks.loc[test_index]\n",
        "\n",
        "X=strat_train_set[use]\n",
        "y=strat_train_set[\"defaulter\"]\n",
        "X_test=strat_test_set[use]\n",
        "Y_actual=strat_test_set[\"defaulter\"]"
      ],
      "execution_count": 0,
      "outputs": []
    },
    {
      "cell_type": "code",
      "metadata": {
        "id": "5WUWzybGFRZf",
        "colab_type": "code",
        "colab": {}
      },
      "source": [
        "import numpy as np\n",
        "from scipy.stats import norm\n",
        "def logit_pvalue(model, x):\n",
        "    \"\"\" Calculate z-scores for scikit-learn LogisticRegression.\n",
        "    parameters:\n",
        "        model: fitted sklearn.linear_model.LogisticRegression with intercept and large C\n",
        "        x:     matrix on which the model was fit\n",
        "    This function uses asymtptics for maximum likelihood estimates.\n",
        "    \"\"\"\n",
        "    p = model.predict_proba(x)\n",
        "    n = len(p)\n",
        "    m = len(model.coef_[0]) + 1\n",
        "    coefs = np.concatenate([model.intercept_, model.coef_[0]])\n",
        "    x_full = np.matrix(np.insert(np.array(x), 0, 1, axis = 1))\n",
        "    ans = np.zeros((m, m))\n",
        "    for i in range(n):\n",
        "        ans = ans + np.dot(np.transpose(x_full[i, :]), x_full[i, :]) * p[i,1] * p[i, 0]\n",
        "    vcov = np.linalg.inv(np.matrix(ans))\n",
        "    se = np.sqrt(np.diag(vcov))\n",
        "    t =  coefs/se  \n",
        "    p = (1 - norm.cdf(abs(t))) * 2\n",
        "    return p"
      ],
      "execution_count": 0,
      "outputs": []
    },
    {
      "cell_type": "code",
      "metadata": {
        "id": "JeQwpXrbeIHX",
        "colab_type": "code",
        "colab": {}
      },
      "source": [
        "from sklearn.linear_model import LogisticRegression\n",
        "log_reg = LogisticRegression(solver=\"lbfgs\", random_state=42)\n",
        "\n",
        "log_reg.fit(X, y)\n",
        "from sklearn.metrics import confusion_matrix\n",
        "print(confusion_matrix(log_reg.predict(X_test),Y_actual))\n",
        "\n",
        "\n",
        "\n",
        "print(logit_pvalue(log_reg.fit(X, y),X))"
      ],
      "execution_count": 0,
      "outputs": []
    },
    {
      "cell_type": "markdown",
      "metadata": {
        "id": "tb5pxZxsWoqk",
        "colab_type": "text"
      },
      "source": [
        "That looks awful. Let's try and dientify predictors that are intrinsic to banks balance sheet."
      ]
    },
    {
      "cell_type": "code",
      "metadata": {
        "id": "tz25yy3kVEIk",
        "colab_type": "code",
        "colab": {}
      },
      "source": [
        "bs_cols = ['log_TA','NI_to_TA', 'Equity_to_TA', 'NPL_to_TL', 'REO_to_TA', \n",
        "              'ALLL_to_TL', 'core_deposits_to_TA', 'brokered_deposits_to_TA', \n",
        "              'liquid_assets_to_TA', 'loss_provision_to_TL', \n",
        "              'ROA', \n",
        "              'NIM', 'assets_growth']\n",
        "X=strat_train_set[bs_cols]\n",
        "\n",
        "X_test=strat_test_set[bs_cols]\n",
        "log_reg.fit(X, y)\n",
        "print(confusion_matrix(log_reg.predict(X_test),Y_actual))\n",
        "import numpy as np\n",
        "from scipy.stats import norm\n",
        "from sklearn.linear_model import LogisticRegression\n",
        "\n",
        "\n",
        "\n",
        "print(logit_pvalue(log_reg.fit(X, y),X))"
      ],
      "execution_count": 0,
      "outputs": []
    },
    {
      "cell_type": "markdown",
      "metadata": {
        "id": "13UBYWXPXBHR",
        "colab_type": "text"
      },
      "source": [
        "That looks better. Now try some other methods like random forest SVM, xgboost, decisio trees. Try tuning them. Which do you choose?"
      ]
    }
  ]
}